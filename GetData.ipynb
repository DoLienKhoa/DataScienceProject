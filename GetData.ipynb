{
 "cells": [
  {
   "cell_type": "code",
   "execution_count": 1,
   "metadata": {},
   "outputs": [],
   "source": [
    "import requests\n",
    "import json\n",
    "import csv"
   ]
  },
  {
   "cell_type": "code",
   "execution_count": 2,
   "metadata": {},
   "outputs": [],
   "source": [
    "data = requests.get('http://api.openweathermap.org/data/2.5/air_pollution/history?lat=21.028280&lon=105.853880&start=1451606400&end=1609372800&appid=241106f93039bf0c801e0e426aeb06c6')"
   ]
  },
  {
   "cell_type": "code",
   "execution_count": 3,
   "metadata": {},
   "outputs": [],
   "source": [
    "air_quality = json.loads(data.text)"
   ]
  },
  {
   "cell_type": "code",
   "execution_count": 4,
   "metadata": {},
   "outputs": [
    {
     "data": {
      "text/plain": [
       "{'main': {'aqi': 4},\n",
       " 'components': {'co': 627.52,\n",
       "  'no': 0.01,\n",
       "  'no2': 32.56,\n",
       "  'o3': 51.5,\n",
       "  'so2': 33.85,\n",
       "  'pm2_5': 39.23,\n",
       "  'pm10': 45.34,\n",
       "  'nh3': 9.63},\n",
       " 'dt': 1609372800}"
      ]
     },
     "execution_count": 4,
     "metadata": {},
     "output_type": "execute_result"
    }
   ],
   "source": [
    "air_quality['list'][0]"
   ]
  },
  {
   "cell_type": "code",
   "execution_count": 5,
   "metadata": {},
   "outputs": [],
   "source": [
    "def to_dict(data):\n",
    "    temp = {}\n",
    "    detail = data['components']\n",
    "    temp['aqi'] = data['main']['aqi']\n",
    "    temp['co'] = detail['co']\n",
    "    temp['no'] = detail['no']\n",
    "    temp['no2'] = detail['no2']\n",
    "    temp['o3'] = detail['o3']\n",
    "    temp['so2'] = detail['so2']\n",
    "    temp['pm2_5'] = detail['pm2_5']\n",
    "    temp['pm10'] = detail['pm10']\n",
    "    temp['nh3'] = detail['nh3']\n",
    "    temp['dt'] = data['dt']\n",
    "    \n",
    "    return temp"
   ]
  },
  {
   "cell_type": "code",
   "execution_count": 6,
   "metadata": {},
   "outputs": [],
   "source": [
    "list_records = []\n",
    "for record in air_quality['list']:\n",
    "    list_records.append(to_dict(record))"
   ]
  },
  {
   "cell_type": "code",
   "execution_count": 7,
   "metadata": {},
   "outputs": [],
   "source": [
    "with open('air_quality.csv', mode='w') as csv_file:\n",
    "    writer = csv.DictWriter(csv_file, fieldnames=list_records[0].keys())\n",
    "    \n",
    "    writer.writeheader()\n",
    "    for record in list_records:\n",
    "        writer.writerow(record)"
   ]
  }
 ],
 "metadata": {
  "kernelspec": {
   "display_name": "Python 3",
   "language": "python",
   "name": "python3"
  },
  "language_info": {
   "codemirror_mode": {
    "name": "ipython",
    "version": 3
   },
   "file_extension": ".py",
   "mimetype": "text/x-python",
   "name": "python",
   "nbconvert_exporter": "python",
   "pygments_lexer": "ipython3",
   "version": "3.8.3"
  }
 },
 "nbformat": 4,
 "nbformat_minor": 4
}
